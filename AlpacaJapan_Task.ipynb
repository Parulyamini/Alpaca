{
 "cells": [
  {
   "cell_type": "code",
   "execution_count": 12,
   "metadata": {},
   "outputs": [],
   "source": [
    "import numpy as np\n",
    "import pandas as pd\n",
    "import matplotlib.pyplot as plt"
   ]
  },
  {
   "cell_type": "code",
   "execution_count": 2,
   "metadata": {},
   "outputs": [],
   "source": [
    "List = [[ 15,  39],\n",
    "       [ 15,  81],\n",
    "       [ 16,   6],\n",
    "       [ 16,  77],\n",
    "       [ 17,  40],\n",
    "       [ 17,  76],\n",
    "       [ 18,   6],\n",
    "       [ 18,  94],\n",
    "       [ 19,   3],\n",
    "       [ 19,  72],\n",
    "       [ 19,  14],\n",
    "       [ 19,  99],\n",
    "       [ 20,  15],\n",
    "       [ 20,  77],\n",
    "       [ 20,  13],\n",
    "       [ 20,  79],\n",
    "       [ 21,  35],\n",
    "       [ 21,  66],\n",
    "       [ 23,  29],\n",
    "       [ 23,  98],\n",
    "       [ 24,  35],\n",
    "       [ 24,  73],\n",
    "       [ 25,   5],\n",
    "       [ 25,  73],\n",
    "       [ 28,  14],\n",
    "       [ 28,  82],\n",
    "       [ 28,  32],\n",
    "       [ 28,  61],\n",
    "       [ 29,  31],\n",
    "       [ 29,  87],\n",
    "       [ 30,   4],\n",
    "       [ 30,  73],\n",
    "       [ 33,   4],\n",
    "       [ 33,  92],\n",
    "       [ 33,  14],\n",
    "       [ 33,  81],\n",
    "       [ 34,  17],\n",
    "       [ 34,  73],\n",
    "       [ 37,  26],\n",
    "       [ 37,  75],\n",
    "       [ 38,  35],\n",
    "       [ 38,  92],\n",
    "       [ 39,  36],\n",
    "       [ 39,  61],\n",
    "       [ 39,  28],\n",
    "       [ 39,  65],\n",
    "       [ 40,  55],\n",
    "       [ 40,  47],\n",
    "       [ 40,  42],\n",
    "       [ 40,  42],\n",
    "       [ 42,  52],\n",
    "       [ 42,  60],\n",
    "       [ 43,  54],\n",
    "       [ 43,  60],\n",
    "       [ 43,  45],\n",
    "       [ 43,  41],\n",
    "       [ 44,  50],\n",
    "       [ 44,  46],\n",
    "       [ 46,  51],\n",
    "       [ 46,  46],\n",
    "       [ 46,  56],\n",
    "       [ 46,  55],\n",
    "       [ 47,  52],\n",
    "       [ 47,  59],\n",
    "       [ 48,  51],\n",
    "       [ 48,  59],\n",
    "       [ 48,  50],\n",
    "       [ 48,  48],\n",
    "       [ 48,  59],\n",
    "       [ 48,  47],\n",
    "       [ 49,  55],\n",
    "       [ 49,  42],\n",
    "       [ 50,  49],\n",
    "       [ 50,  56],\n",
    "       [ 54,  47],\n",
    "       [ 54,  54],\n",
    "       [ 54,  53],\n",
    "       [ 54,  48],\n",
    "       [ 54,  52],\n",
    "       [ 54,  42],\n",
    "       [ 54,  51],\n",
    "       [ 54,  55],\n",
    "       [ 54,  41],\n",
    "       [ 54,  44],\n",
    "       [ 54,  57],\n",
    "       [ 54,  46],\n",
    "       [ 57,  58],\n",
    "       [ 57,  55],\n",
    "       [ 58,  60],\n",
    "       [ 58,  46],\n",
    "       [ 59,  55],\n",
    "       [ 59,  41],\n",
    "       [ 60,  49],\n",
    "       [ 60,  40],\n",
    "       [ 60,  42],\n",
    "       [ 60,  52],\n",
    "       [ 60,  47],\n",
    "       [ 60,  50],\n",
    "       [ 61,  42]]\n",
    "       "
   ]
  },
  {
   "cell_type": "code",
   "execution_count": 10,
   "metadata": {},
   "outputs": [],
   "source": [
    "X = np.array(List)"
   ]
  },
  {
   "cell_type": "code",
   "execution_count": 14,
   "metadata": {},
   "outputs": [
    {
     "data": {
      "image/png": "[encoded data removed]",
      "text/plain": [
       "<Figure size 432x288 with 1 Axes>"
      ]
     },
     "metadata": {},
     "output_type": "display_data"
    }
   ],
   "source": [
    "# Using the elbow method to find the optimal number of clusters\n",
    "from sklearn.cluster import KMeans\n",
    "wcss = []\n",
    "for i in range(1, 6):\n",
    "    kmeans = KMeans(n_clusters = i, init = 'k-means++', random_state = 42)\n",
    "    kmeans.fit(X)\n",
    "    wcss.append(kmeans.inertia_)\n",
    "plt.plot(range(1, 6), wcss)\n",
    "plt.title('The Elbow Method')\n",
    "plt.xlabel('Number of clusters')\n",
    "plt.ylabel('WCSS')\n",
    "plt.show()\n"
   ]
  },
  {
   "cell_type": "code",
   "execution_count": 29,
   "metadata": {},
   "outputs": [],
   "source": [
    "def kmeansresults(X,numberofclusters):\n",
    "    # Fitting K-Means to the dataset\n",
    "    kmeans = KMeans(n_clusters = numberofclusters, init = 'k-means++', random_state = 42)\n",
    "    clusterid = print(\"Cluster ID:\" ,kmeans.fit_predict(X))\n",
    "    # Visualising the clusters\n",
    "    plt.scatter(X[y_kmeans == 0, 0], X[y_kmeans == 0, 1], s = 100, c = 'red', label = 'Cluster 1')\n",
    "    plt.scatter(X[y_kmeans == 1, 0], X[y_kmeans == 1, 1], s = 100, c = 'blue', label = 'Cluster 2')\n",
    "    plt.scatter(X[y_kmeans == 2, 0], X[y_kmeans == 2, 1], s = 100, c = 'green', label = 'Cluster 3')\n",
    "    plt.scatter(X[y_kmeans == 3, 0], X[y_kmeans == 3, 1], s = 100, c = 'cyan', label = 'Cluster 4')\n",
    "    plt.scatter(X[y_kmeans == 4, 0], X[y_kmeans == 4, 1], s = 100, c = 'magenta', label = 'Cluster 5')\n",
    "    plt.scatter(kmeans.cluster_centers_[:, 0], kmeans.cluster_centers_[:, 1], s = 300, c = 'yellow', label = 'Centroids')\n",
    "    plt.title('Clusters of customers')\n",
    "    plt.xlabel('Annual Income (k$)')\n",
    "    plt.ylabel('Spending Score (1-100)')\n",
    "    plt.legend()\n",
    "    plt.show()\n",
    "    #graph = print(\"Final Plot:\",plt.show())\n",
    "    centroids = print(\"Centroids Coordinates:\" ,kmeans.cluster_centers_)\n",
    "    return clusterid,centroids\n",
    "    "
   ]
  },
  {
   "cell_type": "code",
   "execution_count": 30,
   "metadata": {},
   "outputs": [],
   "source": [
    "numberofclusters = 3"
   ]
  },
  {
   "cell_type": "code",
   "execution_count": 31,
   "metadata": {},
   "outputs": [
    {
     "name": "stdout",
     "output_type": "stream",
     "text": [
      "Cluster ID: [1 2 1 2 1 2 1 2 1 2 1 2 1 2 1 2 1 2 1 2 1 2 1 2 1 2 1 2 1 2 1 2 1 2 1 2 1\n",
      " 2 1 2 0 2 0 0 1 0 0 0 0 0 0 0 0 0 0 0 0 0 0 0 0 0 0 0 0 0 0 0 0 0 0 0 0 0\n",
      " 0 0 0 0 0 0 0 0 0 0 0 0 0 0 0 0 0 0 0 0 0 0 0 0 0 0]\n"
     ]
    },
    {
     "data": {
      "image/png": "[encoded data removed]",
      "text/plain": [
       "<Figure size 432x288 with 1 Axes>"
      ]
     },
     "metadata": {},
     "output_type": "display_data"
    },
    {
     "name": "stdout",
     "output_type": "stream",
     "text": [
      "Centroids Coordinates: [[50.01724138 50.03448276]\n",
      " [25.14285714 19.52380952]\n",
      " [25.0952381  80.04761905]]\n"
     ]
    },
    {
     "data": {
      "text/plain": [
       "(None, None)"
      ]
     },
     "execution_count": 31,
     "metadata": {},
     "output_type": "execute_result"
    }
   ],
   "source": [
    "kmeansresults(X,numberofclusters)"
   ]
  },
  {
   "cell_type": "code",
   "execution_count": null,
   "metadata": {},
   "outputs": [],
   "source": []
  },
  {
   "cell_type": "code",
   "execution_count": null,
   "metadata": {},
   "outputs": [],
   "source": []
  },
  {
   "cell_type": "code",
   "execution_count": null,
   "metadata": {},
   "outputs": [],
   "source": []
  },
  {
   "cell_type": "code",
   "execution_count": 5,
   "metadata": {},
   "outputs": [],
   "source": []
  },
  {
   "cell_type": "code",
   "execution_count": null,
   "metadata": {},
   "outputs": [],
   "source": []
  }
 ],
 "metadata": {
  "kernelspec": {
   "display_name": "Python 3",
   "language": "python",
   "name": "python3"
  },
  "language_info": {
   "codemirror_mode": {
    "name": "ipython",
    "version": 3
   },
   "file_extension": ".py",
   "mimetype": "text/x-python",
   "name": "python",
   "nbconvert_exporter": "python",
   "pygments_lexer": "ipython3",
   "version": "3.6.5"
  }
 },
 "nbformat": 4,
 "nbformat_minor": 2
}
